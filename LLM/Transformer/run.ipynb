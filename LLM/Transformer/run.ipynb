{
 "cells": [
  {
   "cell_type": "code",
   "execution_count": null,
   "metadata": {},
   "outputs": [],
   "source": [
    "%load_ext tensorboard"
   ]
  },
  {
   "cell_type": "code",
   "execution_count": 3,
   "metadata": {},
   "outputs": [],
   "source": [
    "%%capture\n",
    "!pip install datasets\n",
    "!pip install tokenizers\n",
    "!pip install torchmetrics"
   ]
  },
  {
   "cell_type": "code",
   "execution_count": null,
   "metadata": {},
   "outputs": [],
   "source": [
    "%%capture\n",
    "from google.colab import drive\n",
    "drive.mount('/content/drive')"
   ]
  },
  {
   "cell_type": "code",
   "execution_count": null,
   "metadata": {},
   "outputs": [],
   "source": [
    "%tensorboard --logdir runs"
   ]
  },
  {
   "cell_type": "code",
   "execution_count": null,
   "metadata": {},
   "outputs": [],
   "source": [
    "!mkdir -p /content/drive/MyDrive/Colab Notebooks/Practice/LLM/Transformer/weights\n",
    "!mkdir -p /content/drive/MyDrive/Colab Notebooks/Practice/LLM/Transformer/vocab"
   ]
  },
  {
   "cell_type": "code",
   "execution_count": null,
   "metadata": {},
   "outputs": [],
   "source": [
    "cd ./drive/MyDrive/Colab Notebooks/Practice/LLM/Transformer/"
   ]
  },
  {
   "cell_type": "code",
   "execution_count": null,
   "metadata": {},
   "outputs": [],
   "source": [
    "!ls"
   ]
  },
  {
   "cell_type": "code",
   "execution_count": null,
   "metadata": {},
   "outputs": [],
   "source": [
    "!python train.py"
   ]
  },
  {
   "cell_type": "markdown",
   "metadata": {},
   "source": [
    "Local"
   ]
  },
  {
   "cell_type": "code",
   "execution_count": 5,
   "metadata": {},
   "outputs": [],
   "source": [
    "from pathlib import Path\n",
    "import torch\n",
    "import torch.nn as nn\n",
    "from configs.config import Config\n",
    "from utils.preprocess import get_ds\n",
    "from train import get_model"
   ]
  },
  {
   "cell_type": "code",
   "execution_count": 7,
   "metadata": {},
   "outputs": [
    {
     "name": "stdout",
     "output_type": "stream",
     "text": [
      "Using device: cuda\n",
      "Max length of source sentences: 309\n",
      "Max length of target sentences: 274\n"
     ]
    },
    {
     "name": "stderr",
     "output_type": "stream",
     "text": [
      "C:\\Users\\To Thanh Dat\\AppData\\Local\\Temp\\ipykernel_44956\\4261741392.py:10: FutureWarning: You are using `torch.load` with `weights_only=False` (the current default value), which uses the default pickle module implicitly. It is possible to construct malicious pickle data which will execute arbitrary code during unpickling (See https://github.com/pytorch/pytorch/blob/main/SECURITY.md#untrusted-models for more details). In a future release, the default value for `weights_only` will be flipped to `True`. This limits the functions that could be executed during unpickling. Arbitrary objects will no longer be allowed to be loaded via this mode unless they are explicitly allowlisted by the user via `torch.serialization.add_safe_globals`. We recommend you start setting `weights_only=True` for any use case where you don't have full control of the loaded file. Please open an issue on GitHub for any issues related to this experimental feature.\n",
      "  state = torch.load(model_filename)\n"
     ]
    },
    {
     "data": {
      "text/plain": [
       "<All keys matched successfully>"
      ]
     },
     "execution_count": 7,
     "metadata": {},
     "output_type": "execute_result"
    }
   ],
   "source": [
    "# Define the device\n",
    "device = torch.device(\"cuda\" if torch.cuda.is_available() else \"cpu\")\n",
    "print(\"Using device:\", device)\n",
    "config = Config()\n",
    "train_dataloader, val_dataloader, tokenizer_src, tokenizer_tgt = get_ds(config)\n",
    "model = get_model(config, tokenizer_src.get_vocab_size(), tokenizer_tgt.get_vocab_size()).to(device)\n",
    "\n",
    "# Load the pretrained weights\n",
    "model_filename = config.get_weight_file_path(19)\n",
    "state = torch.load(model_filename)\n",
    "model.load_state_dict(state['model_state_dict'])"
   ]
  },
  {
   "cell_type": "code",
   "execution_count": 8,
   "metadata": {},
   "outputs": [
    {
     "name": "stdout",
     "output_type": "stream",
     "text": [
      "--------------------------------------------------------------------------------\n",
      "    SOURCE: By the best of my calculation, that place where I now was must be that country which, lying between the Emperor of Morocco’s dominions and the negroes, lies waste and uninhabited, except by wild beasts; the negroes having abandoned it and gone farther south for fear of the Moors, and the Moors not thinking it worth inhabiting by reason of its barrenness; and indeed, both forsaking it because of the prodigious number of tigers, lions, leopards, and other furious creatures which harbour there; so that the Moors use it for their hunting only, where they go like an army, two or three thousand men at a time; and indeed for near a hundred miles together upon this coast we saw nothing but a waste, uninhabited country by day, and heard nothing but howlings and roaring of wild beasts by night.\n",
      "    TARGET: Dai più precisi computi da me istituiti mi risulta, che il luogo ove fui allora, debb’essere un paese giacente fra i domini dell’imperator di Marocco e le terre abitate dai Negri, paese deserto e popolato soltanto di fiere. I Negri lo avevano abbandonato, andando a stanziarsi più verso mezzogiorno per paura dei Mori; e i Mori nol credettero degno di essere abitato a cagione della sua sterilità; e veramente non se ne saranno nemmeno curati atteso il prodigioso numero di tigri, di leoni, di leopardi e d’altre formidabili fiere che vi hanno il lor covo; i Mori quindi se ne valgono solamente per venirvi a caccia, formando una specie d’esercito di due o tremila uomini in una volta.\n",
      " PREDICTED: Non Non Non Non Non Non Non Non Non Non Non Non Non Non Non Non Non Non Non Non Non Non Non Non Non Non Non Non Non Non Non Non Non Non Non Non Non Non Non Non Non Non Non Non Non Non Non Non Non Non Non Non Non Non Non Non Non Non Non Non Non Non Non Non Non Non Non Non Non Non Non Non Non Non Non Non Non Non Non Non Non Non Non Non Non Non Non Non Non Non Non Non Non Non Non Non Non Non Non Non Non Non Non Non Non Non Non Non Non Non Non Non Non Non Non Non Non Non Non Non Non Non Non Non Non Non Non Non Non Non Non Non Non Non Non Non Non Non Non Non Non Non Non Non Non Non Non Non Non Non Non Non Non Non Non Non Non Non Non Non Non Non Non Non Non Non Non Non Non Non Non Non Non Non Non Non Non Non Non Non Non Non Non Non Non Non Non Non Non Non Non Non Non Non Non Non Non Non Non Non Non Non Non Non Non Non Non Non Non Non Non Non Non Non Non Non Non Non Non Non Non Non Non Non Non Non Non Non Non Non Non Non Non Non Non Non Non Non Non Non Non Non Non Non Non Non Non Non Non Non Non Non Non Non Non Non Non Non Non Non Non Non Non Non Non Non Non Non Non Non Non Non Non Non Non Non Non Non Non Non Non Non Non Non Non Non Non Non Non Non Non Non Non Non Non Non Non Non Non Non Non Non Non Non Non Non Non Non Non Non Non Non Non Non Non Non Non Non Non Non Non Non Non Non Non Non Non Non Non Non Non Non Non Non Non Non Non Non Non Non Non Non Non Non Non Non Non Non Non\n",
      "--------------------------------------------------------------------------------\n",
      "    SOURCE: I did not ask what she meant by \"all being over,\" but I suppose she referred to the expected decease of her mother and the gloomy sequel of funeral rites.\n",
      "    TARGET: Non osavo domandarle che cosa volesse dire con quel \"tutto sarà finito\", ma supponevo alludesse alla morte della madre e ai funerali.\n",
      " PREDICTED: — — — — — — — — — — — — — — — — — — — — — — — — — — — — — — — — — — — — — — — — — — — — — — — — — — — — — — — — — — — — — — — — — — — — — — — — — — — — — — — — — — — — — — — — — — — — — — — — — — — — — — — — — — — — — — — — — — — — — — — — — — — — — — — — — — — — — — — — — — — — — — — — — — — — — — — — — — — — — — — — — — — — — — — — — — — — — — — — — — — — — — — — — — — — — — — — — — — — — — — — — — — — — — — — — — — — — — — — — — — — — — — — — — — — — — — — — — — — — — — — — — — — — — — — — — — — — — — — — — — — — — — — — — — — — — — — — — — — — — — — — — — — — — — — — — — — — — — — — — — — — — — — — — — — — — — — — — — — — — — — — — — — — — — — — — — — — — — — — — — — — — — — — — — — —\n",
      "--------------------------------------------------------------------------------\n",
      "    SOURCE: 'I am very sorry you were not there,' she said; 'I don't mean present in the room... I should not have behaved so naturally with you there...\n",
      "    TARGET: — Mi dispiace molto, che tu non ci sia stato — ella disse. — Non che tu non ci fossi nella stanza... non sarei stata così naturale in tua presenza.\n",
      " PREDICTED: — — — — — — — — — — — — — — — — — — — — — — — — — — — — — — — — — — — — — — — — — — — — — — — — — — — — — — — — — — — — — — — — — — — — — — — — — — — — — — — — — — — — — — — — — — — — — — — — — — — — — — — — — — — — — — — — — — — — — — — — — — — — — — — — — — — — — — — — — — — — — — — — — — — — — — — — — — — — — — — — — — — — — — — — — — — — — — — — — — — — — — — — — — — — — — — — — — — — — — — — — — — — — — — — — — — — — — — — — — — — — — — — — — — — — — — — — — — — — — — — — — — — — — — — — — — — — — — — — — — — — — — — — — — — — — — — — — — — — — — — — — — — — — — — — — — — — — — — — — — — — — — — — — — — — — — — — — — — — — — — — — — — — — — — — — — — — — — — — — — — — — — — — — — — —\n",
      "--------------------------------------------------------------------------------\n",
      "    SOURCE: As the ship lay almost two leagues from the shore, we had a full view of them as they came, and a plain sight even of their faces; because the tide having set them a little to the east of the other boat, they rowed up under shore, to come to the same place where the other had landed, and where the boat lay; by this means, I say, we had a full view of them, and the captain knew the persons and characters of all the men in the boat, of whom, he said, there were three very honest fellows, who, he was sure, were led into this conspiracy by the rest, being over-powered and frightened; but that as for the boatswain, who it seems was the chief officer among them, and all the rest, they were as outrageous as any of the ship’s crew, and were no doubt made desperate in their new enterprise; and terribly apprehensive he was that they would be too powerful for us.\n",
      "    TARGET: Poichè il vascello non era più lontano di circa due leghe dalla spiaggia, li vedemmo perfettamente dal primo momento in cui si avviarono, e se ne poterono fin discernere i volti, perchè la marea avendoli spinti un po’ più del dovere al levante della volta che avea presa lo scappavia, remarono rasente la spiaggia per isbarcare nello stesso sito ove gli altri. Il capitano intanto potè darmi esatto conto delle persone che s’avanzavano e delle loro nature; tre de’ quali, secondo lui piuttosto buoni diavolacci, s’erano lasciati trascinare nella congiura dalla prepotenza degli altri.\n",
      " PREDICTED: In In In In In In In In In In In In In In In In In In In In In In In In In In In In In In In In In In In In In In In In In In In In In In In In In In In In In In In In In In In In In In In In In In In In In In In In In In In In In In In In In In In In In In In In In In In In In In In In In In In In In In In In In In In In In In In In In In In In In In In In In In In In In In In In In In In In In In In In In In In In In In In In In In In In In In In In In In In In In In In In In In In In In In In In In In In In In In In In In In In In In In In In In In In In In In In In In In In In In In In In In In In In In In In In In In In In In In In In In In In In In In In In In In In In In In In In In In In In In In In In In In In In In In In In In In In In In In In In In In In In In In In In In In In In In In In In In In In In In In In In In In In In In In In In In In In In In In In In In In In In In In In In In In In In In In In In In In In In In In In In In In In In In In In In In In In In In In In In In In In In In In In In In In In In In\n",
      "--------------------------------------------------------------------------------\n",
      "    SOURCE: 'I am late as it is,' he answered. 'Go on!\n",
      "    TARGET: — Sono già in ritardo — egli rispose. — Avviati!\n",
      " PREDICTED: — — — — — — — — — — — — — — — — — — — — — — — — — — — — — — — — — — — — — — — — — — — — — — — — — — — — — — — — — — — — — — — — — — — — — — — — — — — — — — — — — — — — — — — — — — — — — — — — — — — — — — — — — — — — — — — — — — — — — — — — — — — — — — — — — — — — — — — — — — — — — — — — — — — — — — — — — — — — — — — — — — — — — — — — — — — — — — — — — — — — — — — — — — — — — — — — — — — — — — — — — — — — — — — — — — — — — — — — — — — — — — — — — — — — — — — — — — — — — — — — — — — — — — — — — — — — — — — — — — — — — — — — — — — — — — — — — — — — — — — — — — — — — — — — — — — — — — — — — — — — — — — — — — — — — — — — — — — — — — — — — — — — — — — — — — — — — — — — — — — — — — — — — — — — —\n",
      "--------------------------------------------------------------------------------\n",
      "    SOURCE: The man on the bank, who is trying to disentangle it, thinks all the fault lies with the man who rolled it up; and when a man up the river thinks a thing, he says it.\n",
      "    TARGET: Chi sta sulla riva a tentare di distrigarlo, pensa che la colpa sia di chi l’ha arrotolato, e chi ha il cavo di rimorchio, quando pensa una cosa, la dice!\n",
      " PREDICTED: E E E E E E E E E E E E E E E E E E E E E E E E E E E E E E E E E E E E E E E E E E E E E E E E E E E E E E E E E E E E E E E E E E E E E E E E E E E E E E E E E E E E E E E E E E E E E E E E E E E E E E E E E E E E E E E E E E E E E E E E E E E E E E E E E E E E E E E E E E E E E E E E E E E E E E E E E E E E E E E E E E E E E E E E E E E E E E E E E E E E E E E E E E E E E E E E E E E E E E E E E E E E E E E E E E E E E E E E E E E E E E E E E E E E E E E E E E E E E E E E E E E E E E E E E E E E E E E E E E E E E E E E E E E E E E E E E E E E E E E E E E E E E E E E E E E E E E E E E E E E E E E E E E E E E E E E E E E E E E E E E E E E E E E E E E E E E E E E E E E E E E E E E E E E E\n",
      "--------------------------------------------------------------------------------\n",
      "    SOURCE: Two hours she devoted to her diary; two to working by herself in the kitchen-garden; and one to the regulation of her accounts.\n",
      "    TARGET: Due ore le consacrava al suo diario, due altre a lavorar sola nell'arte e una a fare i conti.\n",
      " PREDICTED: La La La La La La La La La La La La La La La La La La La La La La La La La La La La La La La La La La La La La La La La La La La La La La La La La La La La La La La La La La La La La La La La La La La La La La La La La La La La La La La La La La La La La La La La La La La La La La La La La La La La La La La La La La La La La La La La La La La La La La La La La La La La La La La La La La La La La La La La La La La La La La La La La La La La La La La La La La La La La La La La La La La La La La La La La La La La La La La La La La La La La La La La La La La La La La La La La La La La La La La La La La La La La La La La La La La La La La La La La La La La La La La La La La La La La La La La La La La La La La La La La La La La La La La La La La La La La La La La La La La La La La La La La La La La La La La La La La La La La La La La La La La La La La La La La La La La La La La La La La La La La La La La La La La La La La La La La La La La La La La La La La La La La La La La La La La La La La La La La La La La La La La La La La La La La\n",
      "--------------------------------------------------------------------------------\n",
      "    SOURCE: “Yes, yes,” says he, “wish we both there; no wish Friday there, no master there.” In a word, he would not think of going there without me.\n",
      "    TARGET: In una parola non voleva intenderla di partire senza di me. — «Io andar là, Venerdì! a far che? — A far che? mi rispose con la massima vivacità.\n",
      " PREDICTED: E E E E E E E E E E E E E E E E E E E E E E E E E E E E E E E E E E E E E E E E E E E E E E E E E E E E E E E E E E E E E E E E E E E E E E E E E E E E E E E E E E E E E E E E E E E E E E E E E E E E E E E E E E E E E E E E E E E E E E E E E E E E E E E E E E E E E E E E E E E E E E E E E E E E E E E E E E E E E E E E E E E E E E E E E E E E E E E E E E E E E E E E E E E E E E E E E E E E E E E E E E E E E E E E E E E E E E E E E E E E E E E E E E E E E E E E E E E E E E E E E E E E E E E E E E E E E E E E E E E E E E E E E E E E E E E E E E E E E E E E E E E E E E E E E E E E E E E E E E E E E E E E E E E E E E E E E E E E E E E E E E E E E E E E E E E E E E E E E E E E E E E E E E E E E\n",
      "--------------------------------------------------------------------------------\n",
      "    SOURCE: Adele now petitioned to go down; but I took her on my knee, and gave her to understand that she must not on any account think of venturing in sight of the ladies, either now or at any other time, unless expressly sent for: that Mr. Rochester would be very angry, &c.\n",
      "    TARGET: Adele voleva scendere, ma io la presi sulle ginocchia e le feci capire che né ora né mai ella non doveva andare a vedere le signore, se il suo tutore non la faceva chiamare, e aggiunsi che egli sarebbe andato in collera, se mi avesse disubbidito; pianse un poco, io feci la seria ed ella finì per consolarsi.\n",
      " PREDICTED: \" \" \" \" \" \" \" \" \" \" \" \" \" \" \" \" \" \" \" \" \" \" \" \" \" \" \" \" \" \" \" \" \" \" \" \" \" \" \" \" \" \" \" \" \" \" \" \" \" \" \" \" \" \" \" \" \" \" \" \" \" \" \" \" \" \" \" \" \" \" \" \" \" \" \" \" \" \" \" \" \" \" \" \" \" \" \" \" \" \" \" \" \" \" \" \" \" \" \" \" \" \" \" \" \" \" \" \" \" \" \" \" \" \" \" \" \" \" \" \" \" \" \" \" \" \" \" \" \" \" \" \" \" \" \" \" \" \" \" \" \" \" \" \" \" \" \" \" \" \" \" \" \" \" \" \" \" \" \" \" \" \" \" \" \" \" \" \" \" \" \" \" \" \" \" \" \" \" \" \" \" \" \" \" \" \" \" \" \" \" \" \" \" \" \" \" \" \" \" \" \" \" \" \" \" \" \" \" \" \" \" \" \" \" \" \" \" \" \" \" \" \" \" \" \" \" \" \" \" \" \" \" \" \" \" \" \" \" \" \" \" \" \" \" \" \" \" \" \" \" \" \" \" \" \" \" \" \" \" \" \" \" \" \" \" \" \" \" \" \" \" \" \" \" \" \" \" \" \" \" \" \" \" \" \" \" \" \" \" \" \" \" \" \" \" \" \" \" \" \" \" \" \" \" \" \" \" \" \" \" \" \" \" \" \" \" \" \" \" \" \" \" \" \" \" \" \" \" \" \" \" \" \" \" \" \" \" \" \" \" \" \" \" \" \" \" \" \" \"\n",
      "--------------------------------------------------------------------------------\n",
      "    SOURCE: He is a dear child, just like this host of ours: hear him!' he added, listening to the cries of 'Hurrah!'\n",
      "    TARGET: Vedi — aggiunse, prestando orecchio al grido di “urrà” — anche lui si diverte, ma questo non può accontentare te.\n",
      " PREDICTED: — — — — — — — — — — — — — — — — — — — — — — — — — — — — — — — — — — — — — — — — — — — — — — — — — — — — — — — — — — — — — — — — — — — — — — — — — — — — — — — — — — — — — — — — — — — — — — — — — — — — — — — — — — — — — — — — — — — — — — — — — — — — — — — — — — — — — — — — — — — — — — — — — — — — — — — — — — — — — — — — — — — — — — — — — — — — — — — — — — — — — — — — — — — — — — — — — — — — — — — — — — — — — — — — — — — — — — — — — — — — — — — — — — — — — — — — — — — — — — — — — — — — — — — — — — — — — — — — — — — — — — — — — — — — — — — — — — — — — — — — — — — — — — — — — — — — — — — — — — — — — — — — — — — — — — — — — — — — — — — — — — — — — — — — — — — — — — — — — — — — — — — — — — — — —\n"
     ]
    }
   ],
   "source": [
    "from validation import run_validation\n",
    "\n",
    "run_validation(model, val_dataloader, tokenizer_src, tokenizer_tgt, config.seq_len, device,\n",
    "                lambda msg: print(msg), 0, None, 10)"
   ]
  }
 ],
 "metadata": {
  "kernelspec": {
   "display_name": "Python 3",
   "language": "python",
   "name": "python3"
  },
  "language_info": {
   "codemirror_mode": {
    "name": "ipython",
    "version": 3
   },
   "file_extension": ".py",
   "mimetype": "text/x-python",
   "name": "python",
   "nbconvert_exporter": "python",
   "pygments_lexer": "ipython3",
   "version": "3.12.8"
  }
 },
 "nbformat": 4,
 "nbformat_minor": 2
}
