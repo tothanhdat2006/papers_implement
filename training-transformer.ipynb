{
 "cells": [
  {
   "cell_type": "code",
   "execution_count": 1,
   "id": "05904b93",
   "metadata": {
    "_cell_guid": "b1076dfc-b9ad-4769-8c92-a6c4dae69d19",
    "_uuid": "8f2839f25d086af736a60e9eeb907d3b93b6e0e5",
    "execution": {
     "iopub.execute_input": "2025-02-28T01:22:52.887859Z",
     "iopub.status.busy": "2025-02-28T01:22:52.887518Z",
     "iopub.status.idle": "2025-02-28T01:22:53.627020Z",
     "shell.execute_reply": "2025-02-28T01:22:53.626091Z"
    },
    "papermill": {
     "duration": 0.744551,
     "end_time": "2025-02-28T01:22:53.628741",
     "exception": false,
     "start_time": "2025-02-28T01:22:52.884190",
     "status": "completed"
    },
    "tags": []
   },
   "outputs": [],
   "source": [
    "# This Python 3 environment comes with many helpful analytics libraries installed\n",
    "# It is defined by the kaggle/python Docker image: https://github.com/kaggle/docker-python\n",
    "# For example, here's several helpful packages to load\n",
    "\n",
    "import numpy as np # linear algebra\n",
    "import pandas as pd # data processing, CSV file I/O (e.g. pd.read_csv)\n",
    "\n",
    "# Input data files are available in the read-only \"../input/\" directory\n",
    "# For example, running this (by clicking run or pressing Shift+Enter) will list all files under the input directory\n",
    "\n",
    "import os\n",
    "for dirname, _, filenames in os.walk('/kaggle/input'):\n",
    "    for filename in filenames:\n",
    "        print(os.path.join(dirname, filename))\n",
    "\n",
    "# You can write up to 20GB to the current directory (/kaggle/working/) that gets preserved as output when you create a version using \"Save & Run All\" \n",
    "# You can also write temporary files to /kaggle/temp/, but they won't be saved outside of the current session"
   ]
  },
  {
   "cell_type": "code",
   "execution_count": 2,
   "id": "a8c3b940",
   "metadata": {
    "execution": {
     "iopub.execute_input": "2025-02-28T01:22:53.634002Z",
     "iopub.status.busy": "2025-02-28T01:22:53.633591Z",
     "iopub.status.idle": "2025-02-28T01:22:54.604078Z",
     "shell.execute_reply": "2025-02-28T01:22:54.602947Z"
    },
    "papermill": {
     "duration": 0.974623,
     "end_time": "2025-02-28T01:22:54.605769",
     "exception": false,
     "start_time": "2025-02-28T01:22:53.631146",
     "status": "completed"
    },
    "tags": []
   },
   "outputs": [
    {
     "name": "stdout",
     "output_type": "stream",
     "text": [
      "Cloning into 'papers_implement'...\r\n",
      "remote: Enumerating objects: 532, done.\u001b[K\r\n",
      "remote: Counting objects: 100% (532/532), done.\u001b[K\r\n",
      "remote: Compressing objects: 100% (325/325), done.\u001b[K\r\n",
      "remote: Total 532 (delta 202), reused 476 (delta 152), pack-reused 0 (from 0)\u001b[K\r\n",
      "Receiving objects: 100% (532/532), 5.36 MiB | 38.62 MiB/s, done.\r\n",
      "Resolving deltas: 100% (202/202), done.\r\n"
     ]
    }
   ],
   "source": [
    "!git clone https://github.com/tothanhdat2006/papers_implement.git"
   ]
  },
  {
   "cell_type": "code",
   "execution_count": 3,
   "id": "ca935770",
   "metadata": {
    "execution": {
     "iopub.execute_input": "2025-02-28T01:22:54.612168Z",
     "iopub.status.busy": "2025-02-28T01:22:54.611898Z",
     "iopub.status.idle": "2025-02-28T01:22:54.615319Z",
     "shell.execute_reply": "2025-02-28T01:22:54.614675Z"
    },
    "papermill": {
     "duration": 0.0079,
     "end_time": "2025-02-28T01:22:54.616523",
     "exception": false,
     "start_time": "2025-02-28T01:22:54.608623",
     "status": "completed"
    },
    "tags": []
   },
   "outputs": [],
   "source": [
    "# !ls /kaggle/working/papers_implement/LLM/Transformer"
   ]
  },
  {
   "cell_type": "code",
   "execution_count": 4,
   "id": "65400f1e",
   "metadata": {
    "execution": {
     "iopub.execute_input": "2025-02-28T01:22:54.622014Z",
     "iopub.status.busy": "2025-02-28T01:22:54.621782Z",
     "iopub.status.idle": "2025-02-28T01:22:54.745239Z",
     "shell.execute_reply": "2025-02-28T01:22:54.744075Z"
    },
    "papermill": {
     "duration": 0.127896,
     "end_time": "2025-02-28T01:22:54.746817",
     "exception": false,
     "start_time": "2025-02-28T01:22:54.618921",
     "status": "completed"
    },
    "tags": []
   },
   "outputs": [],
   "source": [
    "!mkdir /kaggle/working/papers_implement/LLM/Transformer/weights"
   ]
  },
  {
   "cell_type": "code",
   "execution_count": 5,
   "id": "a136ef9f",
   "metadata": {
    "execution": {
     "iopub.execute_input": "2025-02-28T01:22:54.752948Z",
     "iopub.status.busy": "2025-02-28T01:22:54.752620Z",
     "iopub.status.idle": "2025-02-28T01:22:54.756172Z",
     "shell.execute_reply": "2025-02-28T01:22:54.755294Z"
    },
    "papermill": {
     "duration": 0.007918,
     "end_time": "2025-02-28T01:22:54.757460",
     "exception": false,
     "start_time": "2025-02-28T01:22:54.749542",
     "status": "completed"
    },
    "tags": []
   },
   "outputs": [],
   "source": [
    "# !gdown 1wImbVOWb7TViIKBSjGZCMdjH8hZrdvAP"
   ]
  },
  {
   "cell_type": "code",
   "execution_count": 6,
   "id": "b32b71a2",
   "metadata": {
    "execution": {
     "iopub.execute_input": "2025-02-28T01:22:54.763096Z",
     "iopub.status.busy": "2025-02-28T01:22:54.762845Z",
     "iopub.status.idle": "2025-02-28T01:23:10.163055Z",
     "shell.execute_reply": "2025-02-28T01:23:10.162150Z"
    },
    "papermill": {
     "duration": 15.404442,
     "end_time": "2025-02-28T01:23:10.164365",
     "exception": false,
     "start_time": "2025-02-28T01:22:54.759923",
     "status": "completed"
    },
    "tags": []
   },
   "outputs": [
    {
     "name": "stderr",
     "output_type": "stream",
     "text": [
      "Downloading...\n",
      "From (original): https://drive.google.com/uc?id=1-53XFUD5eSTMeayc7LLGvcXLTOWPbfYN\n",
      "From (redirected): https://drive.google.com/uc?id=1-53XFUD5eSTMeayc7LLGvcXLTOWPbfYN&confirm=t&uuid=52ee70ef-b687-4538-a7f3-a58768b2ac23\n",
      "To: /kaggle/working/papers_implement/LLM/Transformer/weights/tmodel_09.pt\n",
      "100%|██████████| 904M/904M [00:11<00:00, 80.9MB/s]\n"
     ]
    },
    {
     "data": {
      "text/plain": [
       "'/kaggle/working/papers_implement/LLM/Transformer/weights/tmodel_09.pt'"
      ]
     },
     "execution_count": 6,
     "metadata": {},
     "output_type": "execute_result"
    }
   ],
   "source": [
    "import gdown\n",
    "url = \"https://drive.google.com/uc?id=1-53XFUD5eSTMeayc7LLGvcXLTOWPbfYN\"\n",
    "output = \"/kaggle/working/papers_implement/LLM/Transformer/weights/tmodel_09.pt\"\n",
    "gdown.download(url, output, quiet=False)"
   ]
  },
  {
   "cell_type": "code",
   "execution_count": 7,
   "id": "cd5663c4",
   "metadata": {
    "execution": {
     "iopub.execute_input": "2025-02-28T01:23:10.178940Z",
     "iopub.status.busy": "2025-02-28T01:23:10.178516Z",
     "iopub.status.idle": "2025-02-28T01:23:49.993026Z",
     "shell.execute_reply": "2025-02-28T01:23:49.991982Z"
    },
    "papermill": {
     "duration": 39.823485,
     "end_time": "2025-02-28T01:23:49.994721",
     "exception": false,
     "start_time": "2025-02-28T01:23:10.171236",
     "status": "completed"
    },
    "tags": []
   },
   "outputs": [
    {
     "name": "stdout",
     "output_type": "stream",
     "text": [
      "2025-02-28 01:23:15.328110: E external/local_xla/xla/stream_executor/cuda/cuda_fft.cc:485] Unable to register cuFFT factory: Attempting to register factory for plugin cuFFT when one has already been registered\r\n",
      "2025-02-28 01:23:15.528130: E external/local_xla/xla/stream_executor/cuda/cuda_dnn.cc:8454] Unable to register cuDNN factory: Attempting to register factory for plugin cuDNN when one has already been registered\r\n",
      "2025-02-28 01:23:15.582539: E external/local_xla/xla/stream_executor/cuda/cuda_blas.cc:1452] Unable to register cuBLAS factory: Attempting to register factory for plugin cuBLAS when one has already been registered\r\n",
      "Using device: cuda\r\n",
      "Device name: Tesla P100-PCIE-16GB\r\n",
      "Device memory: 15.887939453125 GB\r\n",
      "README.md: 100%|███████████████████████████| 28.1k/28.1k [00:00<00:00, 94.2MB/s]\r\n",
      "train-00000-of-00001.parquet: 100%|████████| 5.73M/5.73M [00:00<00:00, 88.6MB/s]\r\n",
      "Generating train split: 100%|██| 32332/32332 [00:00<00:00, 352574.13 examples/s]\r\n",
      "\u001b[2K[00:00:01] Pre-processing sequences       ██████████████████ 0        /        0Max length of source sentences: 309\r\n",
      "Max length of target sentences: 274\r\n",
      "Preloading model /kaggle/working/papers_implement/LLM/Transformer/weights/tmodel_09.pt\r\n"
     ]
    }
   ],
   "source": [
    "!python /kaggle/working/papers_implement/LLM/Transformer/train.py --preload='09' --platform='kaggle'"
   ]
  }
 ],
 "metadata": {
  "kaggle": {
   "accelerator": "gpu",
   "dataSources": [],
   "dockerImageVersionId": 30919,
   "isGpuEnabled": true,
   "isInternetEnabled": true,
   "language": "python",
   "sourceType": "notebook"
  },
  "kernelspec": {
   "display_name": "Python 3",
   "language": "python",
   "name": "python3"
  },
  "language_info": {
   "codemirror_mode": {
    "name": "ipython",
    "version": 3
   },
   "file_extension": ".py",
   "mimetype": "text/x-python",
   "name": "python",
   "nbconvert_exporter": "python",
   "pygments_lexer": "ipython3",
   "version": "3.10.12"
  },
  "papermill": {
   "default_parameters": {},
   "duration": 60.321453,
   "end_time": "2025-02-28T01:23:50.523050",
   "environment_variables": {},
   "exception": null,
   "input_path": "__notebook__.ipynb",
   "output_path": "__notebook__.ipynb",
   "parameters": {},
   "start_time": "2025-02-28T01:22:50.201597",
   "version": "2.6.0"
  }
 },
 "nbformat": 4,
 "nbformat_minor": 5
}
